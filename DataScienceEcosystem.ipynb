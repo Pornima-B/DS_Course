{
 "cells": [
  {
   "cell_type": "markdown",
   "id": "a158a3e2-17cf-4387-a27e-e2f4d44d5165",
   "metadata": {},
   "source": [
    "H1:Data Science Tools and Ecosystem"
   ]
  },
  {
   "cell_type": "markdown",
   "id": "b3bad542-cfa8-468c-8ef6-5fe4303c8a7e",
   "metadata": {},
   "source": [
    "#H1:Data Science Tools and Ecosystem"
   ]
  },
  {
   "cell_type": "markdown",
   "id": "720c7476-bc94-4c74-b9fe-3a0ae45c5f77",
   "metadata": {},
   "source": [
    "# H1:Data Science Tools and Ecosystem"
   ]
  },
  {
   "cell_type": "markdown",
   "id": "fcbad920-1834-4223-bae3-cf384ddd4d70",
   "metadata": {},
   "source": [
    "#H2:In this notebook, Data Science Tools and Ecosystem assignment."
   ]
  },
  {
   "cell_type": "markdown",
   "id": "9e6ed1b7-79a3-4eef-a400-a4698f5cad62",
   "metadata": {},
   "source": [
    "# H2:In this notebook, Data Science Tools and Ecosystem assignment.\n"
   ]
  },
  {
   "cell_type": "markdown",
   "id": "2e17d1af-2b28-4cb6-85e6-a54ea67049f7",
   "metadata": {},
   "source": [
    "#Some of the popular languages that Data Scientists use are:\n",
    "1. Python\n",
    "2. R\n",
    "3. Scala"
   ]
  },
  {
   "cell_type": "markdown",
   "id": "2c73a880-c6b0-4095-9c0f-19afa8ccf24c",
   "metadata": {},
   "source": [
    "Some of the commonly used libraries used by Data Scientists include:\n",
    "1. pandas\n",
    "2. carpet\n",
    "3. Scikit"
   ]
  },
  {
   "cell_type": "markdown",
   "id": "7f2d88df-bcc6-4401-8c82-2284167e0d56",
   "metadata": {},
   "source": [
    "|Data Science Tools | \n",
    "| ------ | \n",
    "|MongoDB|\n",
    "|PowerBI|\n",
    "|Hue|\n"
   ]
  },
  {
   "cell_type": "markdown",
   "id": "815f554c-27da-4bdb-ba81-93bb129cbce5",
   "metadata": {},
   "source": [
    "#### H3:Below are a few examples of evaluating arithmetic expressions in Python\n",
    "3+89"
   ]
  },
  {
   "cell_type": "code",
   "execution_count": 4,
   "id": "99baaf08-815d-4b8d-b322-387e54b17e57",
   "metadata": {},
   "outputs": [
    {
     "data": {
      "text/plain": [
       "17"
      ]
     },
     "execution_count": 4,
     "metadata": {},
     "output_type": "execute_result"
    }
   ],
   "source": [
    "#This a simple arithmetic expression to mutiply then add integers\n",
    "(3*4)+5"
   ]
  },
  {
   "cell_type": "code",
   "execution_count": 8,
   "id": "eada1e4f-579c-4b3c-9200-13a3f2af3fa8",
   "metadata": {},
   "outputs": [
    {
     "data": {
      "text/plain": [
       "3.3333333333333335"
      ]
     },
     "execution_count": 8,
     "metadata": {},
     "output_type": "execute_result"
    }
   ],
   "source": [
    "#This will convert 200 minutes to hours by diving by 60\n",
    "200/60"
   ]
  },
  {
   "cell_type": "markdown",
   "id": "352bd00d-8948-484c-9053-418a285b7f19",
   "metadata": {},
   "source": [
    "**Objectives**\n",
    "# List popular languages for Data Science\n",
    "- Python\n",
    "- R\n"
   ]
  },
  {
   "cell_type": "markdown",
   "id": "6aa99722-3e9a-4ddc-a946-80f9b3b9a11b",
   "metadata": {},
   "source": [
    "# H2:Author\n",
    "Pornima Birajdar"
   ]
  },
  {
   "cell_type": "code",
   "execution_count": null,
   "id": "976b40f3-b113-41f6-904f-170ff6c7153a",
   "metadata": {},
   "outputs": [],
   "source": []
  }
 ],
 "metadata": {
  "kernelspec": {
   "display_name": "Python 3 (ipykernel)",
   "language": "python",
   "name": "python3"
  },
  "language_info": {
   "codemirror_mode": {
    "name": "ipython",
    "version": 3
   },
   "file_extension": ".py",
   "mimetype": "text/x-python",
   "name": "python",
   "nbconvert_exporter": "python",
   "pygments_lexer": "ipython3",
   "version": "3.12.8"
  }
 },
 "nbformat": 4,
 "nbformat_minor": 5
}
